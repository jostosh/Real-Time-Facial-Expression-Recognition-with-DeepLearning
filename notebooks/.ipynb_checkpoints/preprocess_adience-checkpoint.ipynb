{
 "cells": [
  {
   "cell_type": "code",
   "execution_count": 77,
   "metadata": {
    "collapsed": true
   },
   "outputs": [],
   "source": [
    "%matplotlib inline\n",
    "import pandas as pd\n",
    "import numpy as np\n",
    "import matplotlib.pylab as plt\n",
    "from model.dataset import DataSet\n",
    "import scipy.misc.pilutil as misc\n",
    "import os\n",
    "path = '/home/demo/anchormen/emotion-rec/data/aligned'"
   ]
  },
  {
   "cell_type": "code",
   "execution_count": 84,
   "metadata": {
    "collapsed": true
   },
   "outputs": [],
   "source": [
    "\n",
    "age_c_to_l = {\n",
    "    '(57, 100)': 6,\n",
    "    '(22, 32)': 2,\n",
    "    '(34, 48)': 3,\n",
    "    '(48, 55)': 5,\n",
    "    '(8, 13)': 7,\n",
    "    '(4, 6)': 4,\n",
    "    '(15, 20)': 1,\n",
    "    '(0, 3)': 0\n",
    "}\n"
   ]
  },
  {
   "cell_type": "code",
   "execution_count": 90,
   "metadata": {
    "collapsed": true
   },
   "outputs": [],
   "source": [
    "def load(base_path, idx, display=False):\n",
    "    df = pd.read_csv(base_path + '/fold_frontal_{}_data.txt'.format(idx), sep='\\t').dropna()\n",
    "    df = df[df['gender'] != 'u']\n",
    "\n",
    "    images = []\n",
    "    labels = []\n",
    "\n",
    "    for i, row in df.iterrows():\n",
    "        path = os.path.join(base_path, row['user_id'], 'landmark_aligned_face.{}.{}'.format(\n",
    "            row['face_id'], row['original_image']\n",
    "        ))\n",
    "        gender = row['gender']\n",
    "        if not os.path.exists(path):\n",
    "            continue\n",
    "\n",
    "        images.append(misc.imresize(misc.imread(path), (227, 227)))\n",
    "        labels.append(1 if gender == 'm' else 0, dtype='float'))\n",
    "\n",
    "        if display and i % 100 == 0:\n",
    "            plt.imshow(misc.imread(path))\n",
    "            plt.title(\"man\" if gender == 'm' else 'woman')\n",
    "            plt.show()\n",
    "\n",
    "    images = np.asarray(images)\n",
    "    labels = np.asarray(labels)\n",
    "\n",
    "    return images, labels\n",
    "\n",
    "def group_ages(df):\n",
    "    df2 = df.replace(\n",
    "        {'age': {\n",
    "            '(38, 43)': '(38, 48)',\n",
    "            '(38, 42)': '(38, 48)',\n",
    "            '(27, 32)': '(25, 32)',\n",
    "            '(8, 23)': '(15, 20)',\n",
    "            '2': '(0, 3)',\n",
    "            '(8, 12)': '(8, 13)',\n",
    "            '13': '(8, 13)',\n",
    "            '22': '(22, 32)',\n",
    "            '23': '(22, 32)',\n",
    "            '29': '(22, 32)',\n",
    "            '34': '(34, 48)',\n",
    "            '35': '(34, 48)',\n",
    "            '36': '(34, 48)',\n",
    "            '42': '(34, 48)',\n",
    "            '45': '(34, 48)',\n",
    "            '58': '(57, 100)',\n",
    "            '57': '(57, 100)',\n",
    "            '(60, 100)': '(57, 100)',\n",
    "            '(48, 53)': '(48, 55)',\n",
    "            '55': '(48, 55)',\n",
    "            '3': '(0, 3)',\n",
    "            '(0, 2)': '(0, 3)'\n",
    "        }}\n",
    "    )\n",
    "    df2 = df2.replace(\n",
    "        {'age': {\n",
    "            '(25, 32)': '(22, 32)',\n",
    "            '(38, 48)': '(34, 48)'\n",
    "        }}\n",
    "    )\n",
    "    df2 = df2[df2['age'] != 'None']\n",
    "    return df2\n",
    "\n",
    "def load_age(base_path, idx, display=False):\n",
    "    df = pd.read_csv(base_path + '/fold_frontal_{}_data.txt'.format(idx), sep='\\t').dropna()\n",
    "    df = group_ages(df)\n",
    "    \n",
    "    images = []\n",
    "    labels = []\n",
    "    \n",
    "    for i, row in df.iterrows():\n",
    "        path = os.path.join(base_path, row['user_id'], 'landmark_aligned_face.{}.{}'.format(\n",
    "            row['face_id'], row['original_image']\n",
    "        ))\n",
    "        age = row['age']\n",
    "        \n",
    "        \n",
    "        if not os.path.exists(path):\n",
    "            continue\n",
    "\n",
    "        images.append(misc.imresize(misc.imread(path), (227, 227)))\n",
    "        labels.append(age_c_to_l[age])\n",
    "\n",
    "        if display and i % 100 == 0:\n",
    "            plt.imshow(misc.imread(path))\n",
    "            plt.title(\"man\" if gender == 'm' else 'woman')\n",
    "            plt.show()\n",
    "\n",
    "    images = np.asarray(images)\n",
    "    labels = np.asarray(labels)\n",
    "\n",
    "    return images, labels\n",
    "    \n"
   ]
  },
  {
   "cell_type": "code",
   "execution_count": 28,
   "metadata": {
    "collapsed": true
   },
   "outputs": [],
   "source": [
    "df = pd.concat(\n",
    "    [pd.read_csv(path + '/fold_frontal_{}_data.txt'.format(idx), sep='\\t').dropna() for idx in range(5)]\n",
    ")"
   ]
  },
  {
   "cell_type": "code",
   "execution_count": 31,
   "metadata": {
    "collapsed": true
   },
   "outputs": [],
   "source": [
    "?df.replace"
   ]
  },
  {
   "cell_type": "code",
   "execution_count": 70,
   "metadata": {
    "collapsed": true
   },
   "outputs": [],
   "source": [
    "df['count'] = 1\n",
    "df2 = df.replace(\n",
    "    {'age': {\n",
    "        '(38, 43)': '(38, 48)',\n",
    "        '(38, 42)': '(38, 48)',\n",
    "        '(27, 32)': '(25, 32)',\n",
    "        '(8, 23)': '(15, 20)',\n",
    "        '2': '(0, 3)',\n",
    "        '(8, 12)': '(8, 13)',\n",
    "        '13': '(8, 13)',\n",
    "        '22': '(22, 32)',\n",
    "        '23': '(22, 32)',\n",
    "        '29': '(22, 32)',\n",
    "        '34': '(34, 48)',\n",
    "        '35': '(34, 48)',\n",
    "        '36': '(34, 48)',\n",
    "        '42': '(34, 48)',\n",
    "        '45': '(34, 48)',\n",
    "        '58': '(57, 100)',\n",
    "        '57': '(57, 100)',\n",
    "        '(60, 100)': '(57, 100)',\n",
    "        '(48, 53)': '(48, 55)',\n",
    "        '55': '(48, 55)',\n",
    "        '3': '(0, 3)',\n",
    "        '(0, 2)': '(0, 3)'\n",
    "    }}\n",
    ")\n",
    "df2 = df2.replace(\n",
    "    {'age': {\n",
    "        '(25, 32)': '(22, 32)',\n",
    "        '(38, 48)': '(34, 48)'\n",
    "    }}\n",
    ")\n",
    "df2 = df2[df2['age'] != 'None']\n",
    "df2[['age', 'count']].groupby('age').sum().reset_index()\n",
    "labels = df2['age'].unique()"
   ]
  },
  {
   "cell_type": "code",
   "execution_count": 75,
   "metadata": {},
   "outputs": [
    {
     "name": "stdout",
     "output_type": "stream",
     "text": [
      "{'(57, 100)': 6, '(22, 32)': 2, '(34, 48)': 3, '(48, 55)': 5, '(8, 13)': 7, '(4, 6)': 4, '(15, 20)': 1, '(0, 3)': 0}\n",
      "{0: '(0, 3)', 1: '(15, 20)', 2: '(22, 32)', 3: '(34, 48)', 4: '(4, 6)', 5: '(48, 55)', 6: '(57, 100)', 7: '(8, 13)'}\n"
     ]
    }
   ],
   "source": [
    "class_name_to_label = {\n",
    "    name: i for i, name in enumerate(sorted(labels))\n",
    "}\n",
    "label_to_class_name = {\n",
    "    v: k for k, v in class_name_to_label.items()\n",
    "}\n",
    "print(class_name_to_label)\n",
    "print(label_to_class_name)"
   ]
  },
  {
   "cell_type": "code",
   "execution_count": 91,
   "metadata": {
    "collapsed": true
   },
   "outputs": [],
   "source": [
    "train_x, train_y = [], []\n",
    "for idx in range(4):\n",
    "    images, labels = load(path, idx)\n",
    "    train_x.append(images)\n",
    "    train_y.append(labels)\n",
    "    \n",
    "train_x = np.concatenate(train_x)\n",
    "train_y = np.concatenate(train_y)\n",
    "test_x, test_y = load(path, 4)"
   ]
  },
  {
   "cell_type": "code",
   "execution_count": 95,
   "metadata": {
    "collapsed": true
   },
   "outputs": [],
   "source": [
    "import pickle\n",
    "pickle.dump((train_x, train_y, test_x, test_y), open('/home/demo/anchormen/emotion-rec/data/aligned/age.p', 'wb'))"
   ]
  },
  {
   "cell_type": "code",
   "execution_count": 65,
   "metadata": {},
   "outputs": [
    {
     "data": {
      "text/plain": [
       "'/home/demo/anchormen/emotion-rec/data/aligned'"
      ]
     },
     "execution_count": 65,
     "metadata": {},
     "output_type": "execute_result"
    }
   ],
   "source": [
    "path"
   ]
  },
  {
   "cell_type": "code",
   "execution_count": 93,
   "metadata": {
    "collapsed": true
   },
   "outputs": [],
   "source": [
    "train_x, train_y = [], []\n",
    "for idx in range(4):\n",
    "    images, labels = load_age(path, idx)\n",
    "    train_x.append(images)\n",
    "    train_y.append(labels)\n",
    "    \n",
    "train_x = np.concatenate(train_x)\n",
    "train_y = np.concatenate(train_y)\n",
    "test_x, test_y = load_age(path, 4)"
   ]
  },
  {
   "cell_type": "code",
   "execution_count": 94,
   "metadata": {
    "collapsed": true
   },
   "outputs": [],
   "source": [
    "from keras.utils.np_utils import to_categorical\n",
    "train_y = to_categorical(train_y, len(age_c_to_l))\n",
    "test_y = to_categorical(test_y, len(age_c_to_l))"
   ]
  },
  {
   "cell_type": "code",
   "execution_count": 3,
   "metadata": {
    "collapsed": true
   },
   "outputs": [],
   "source": [
    "df = pd.read_csv(path, delimiter=',')"
   ]
  },
  {
   "cell_type": "code",
   "execution_count": 4,
   "metadata": {},
   "outputs": [
    {
     "data": {
      "text/plain": [
       "Index(['emotion', 'pixels', 'Usage'], dtype='object')"
      ]
     },
     "execution_count": 4,
     "metadata": {},
     "output_type": "execute_result"
    }
   ],
   "source": [
    "df.columns"
   ]
  },
  {
   "cell_type": "code",
   "execution_count": 5,
   "metadata": {},
   "outputs": [
    {
     "data": {
      "text/plain": [
       "array(['Training', 'PublicTest', 'PrivateTest'], dtype=object)"
      ]
     },
     "execution_count": 5,
     "metadata": {},
     "output_type": "execute_result"
    }
   ],
   "source": [
    "df['Usage'].unique()"
   ]
  },
  {
   "cell_type": "code",
   "execution_count": 6,
   "metadata": {},
   "outputs": [
    {
     "data": {
      "text/plain": [
       "array([0, 2, 4, 6, 3, 5, 1])"
      ]
     },
     "execution_count": 6,
     "metadata": {},
     "output_type": "execute_result"
    }
   ],
   "source": [
    "df['emotion'].unique()"
   ]
  },
  {
   "cell_type": "code",
   "execution_count": 7,
   "metadata": {
    "collapsed": true
   },
   "outputs": [],
   "source": [
    "counts = df[df['Usage'] == 'Training'].groupby('emotion').count()"
   ]
  },
  {
   "cell_type": "code",
   "execution_count": 68,
   "metadata": {},
   "outputs": [
    {
     "data": {
      "text/html": [
       "<div>\n",
       "<style>\n",
       "    .dataframe thead tr:only-child th {\n",
       "        text-align: right;\n",
       "    }\n",
       "\n",
       "    .dataframe thead th {\n",
       "        text-align: left;\n",
       "    }\n",
       "\n",
       "    .dataframe tbody tr th {\n",
       "        vertical-align: top;\n",
       "    }\n",
       "</style>\n",
       "<table border=\"1\" class=\"dataframe\">\n",
       "  <thead>\n",
       "    <tr style=\"text-align: right;\">\n",
       "      <th></th>\n",
       "      <th>pixels</th>\n",
       "      <th>Usage</th>\n",
       "    </tr>\n",
       "    <tr>\n",
       "      <th>emotion</th>\n",
       "      <th></th>\n",
       "      <th></th>\n",
       "    </tr>\n",
       "  </thead>\n",
       "  <tbody>\n",
       "    <tr>\n",
       "      <th>0</th>\n",
       "      <td>3995</td>\n",
       "      <td>3995</td>\n",
       "    </tr>\n",
       "    <tr>\n",
       "      <th>1</th>\n",
       "      <td>436</td>\n",
       "      <td>436</td>\n",
       "    </tr>\n",
       "    <tr>\n",
       "      <th>2</th>\n",
       "      <td>4097</td>\n",
       "      <td>4097</td>\n",
       "    </tr>\n",
       "    <tr>\n",
       "      <th>3</th>\n",
       "      <td>7215</td>\n",
       "      <td>7215</td>\n",
       "    </tr>\n",
       "    <tr>\n",
       "      <th>4</th>\n",
       "      <td>4830</td>\n",
       "      <td>4830</td>\n",
       "    </tr>\n",
       "    <tr>\n",
       "      <th>5</th>\n",
       "      <td>3171</td>\n",
       "      <td>3171</td>\n",
       "    </tr>\n",
       "    <tr>\n",
       "      <th>6</th>\n",
       "      <td>4965</td>\n",
       "      <td>4965</td>\n",
       "    </tr>\n",
       "  </tbody>\n",
       "</table>\n",
       "</div>"
      ],
      "text/plain": [
       "         pixels  Usage\n",
       "emotion               \n",
       "0          3995   3995\n",
       "1           436    436\n",
       "2          4097   4097\n",
       "3          7215   7215\n",
       "4          4830   4830\n",
       "5          3171   3171\n",
       "6          4965   4965"
      ]
     },
     "execution_count": 68,
     "metadata": {},
     "output_type": "execute_result"
    }
   ],
   "source": [
    "counts"
   ]
  },
  {
   "cell_type": "code",
   "execution_count": 8,
   "metadata": {
    "collapsed": true
   },
   "outputs": [],
   "source": [
    "total = counts['Usage'].sum()"
   ]
  },
  {
   "cell_type": "code",
   "execution_count": 67,
   "metadata": {},
   "outputs": [
    {
     "data": {
      "text/plain": [
       "emotion\n",
       "0    1.972167\n",
       "1    4.187324\n",
       "2    1.946956\n",
       "3    1.381048\n",
       "4    1.782364\n",
       "5    2.203164\n",
       "6    1.754797\n",
       "Name: Usage, dtype: float64"
      ]
     },
     "execution_count": 67,
     "metadata": {},
     "output_type": "execute_result"
    }
   ],
   "source": [
    "np.log(total / counts)['Usage']"
   ]
  },
  {
   "cell_type": "code",
   "execution_count": 9,
   "metadata": {
    "collapsed": true
   },
   "outputs": [],
   "source": [
    "df_train = df[df['Usage'] == 'Training']\n",
    "df_test = df[df['Usage'] == 'PrivateTest']"
   ]
  },
  {
   "cell_type": "code",
   "execution_count": 10,
   "metadata": {
    "collapsed": true
   },
   "outputs": [],
   "source": [
    "def to_labels_and_images(df):\n",
    "    labels = df['emotion']\n",
    "    images = []\n",
    "    for _, row in df.iterrows():\n",
    "        images.append(row['pixels'].split())\n",
    "    return np.asarray(images, dtype='float32'), labels"
   ]
  },
  {
   "cell_type": "code",
   "execution_count": 11,
   "metadata": {
    "collapsed": true
   },
   "outputs": [],
   "source": [
    "train_x, train_y = to_labels_and_images(df_train)\n",
    "test_x, test_y = to_labels_and_images(df_test)"
   ]
  },
  {
   "cell_type": "code",
   "execution_count": 6,
   "metadata": {},
   "outputs": [
    {
     "name": "stdout",
     "output_type": "stream",
     "text": [
      "210.0 11.0\n"
     ]
    }
   ],
   "source": [
    "print(train_x[0].max(), train_x[0].min())"
   ]
  },
  {
   "cell_type": "code",
   "execution_count": 17,
   "metadata": {},
   "outputs": [
    {
     "data": {
      "text/plain": [
       "255.0"
      ]
     },
     "execution_count": 17,
     "metadata": {},
     "output_type": "execute_result"
    }
   ],
   "source": [
    "train_x.max()"
   ]
  },
  {
   "cell_type": "code",
   "execution_count": 21,
   "metadata": {
    "collapsed": true
   },
   "outputs": [],
   "source": [
    "ds_train = DataSet(train_x, train_y, 7)\n",
    "ds_test = DataSet(train_x, train_y, 7)"
   ]
  },
  {
   "cell_type": "code",
   "execution_count": 55,
   "metadata": {
    "collapsed": true
   },
   "outputs": [],
   "source": [
    "import pickle\n",
    "\n",
    "pickle.dump((train_x, train_y, test_x, test_y), open('/home/demo/anchormen/emotion-rec/data/preprocessed.p', 'wb'))"
   ]
  },
  {
   "cell_type": "code",
   "execution_count": 50,
   "metadata": {},
   "outputs": [
    {
     "data": {
      "text/plain": [
       "<matplotlib.image.AxesImage at 0x7f114ff3bb70>"
      ]
     },
     "execution_count": 50,
     "metadata": {},
     "output_type": "execute_result"
    },
    {
     "data": {
      "image/png": "[encoded data removed]",
      "text/plain": [
       "<matplotlib.figure.Figure at 0x7f1151ef80b8>"
      ]
     },
     "metadata": {},
     "output_type": "display_data"
    }
   ],
   "source": [
    "plt.imshow(train_x[89].reshape((48, 48)))"
   ]
  }
 ],
 "metadata": {
  "kernelspec": {
   "display_name": "Python [conda env:bde]",
   "language": "python",
   "name": "conda-env-bde-py"
  },
  "language_info": {
   "codemirror_mode": {
    "name": "ipython",
    "version": 3
   },
   "file_extension": ".py",
   "mimetype": "text/x-python",
   "name": "python",
   "nbconvert_exporter": "python",
   "pygments_lexer": "ipython3",
   "version": "3.5.4"
  }
 },
 "nbformat": 4,
 "nbformat_minor": 2
}
